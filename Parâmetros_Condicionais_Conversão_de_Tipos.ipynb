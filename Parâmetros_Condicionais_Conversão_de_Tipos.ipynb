{
  "nbformat": 4,
  "nbformat_minor": 0,
  "metadata": {
    "colab": {
      "provenance": [],
      "toc_visible": true,
      "authorship_tag": "ABX9TyNMmPCWns4oNnWOae9Vb16t",
      "include_colab_link": true
    },
    "kernelspec": {
      "name": "python3",
      "display_name": "Python 3"
    },
    "language_info": {
      "name": "python"
    }
  },
  "cells": [
    {
      "cell_type": "markdown",
      "metadata": {
        "id": "view-in-github",
        "colab_type": "text"
      },
      "source": [
        "<a href=\"https://colab.research.google.com/github/Magno-programmer/Magno_programmer/blob/main/Par%C3%A2metros_Condicionais_Convers%C3%A3o_de_Tipos.ipynb\" target=\"_parent\"><img src=\"https://colab.research.google.com/assets/colab-badge.svg\" alt=\"Open In Colab\"/></a>"
      ]
    },
    {
      "cell_type": "markdown",
      "source": [
        "# Parâmetros"
      ],
      "metadata": {
        "id": "mLNBRtAD4yEt"
      }
    },
    {
      "cell_type": "code",
      "source": [
        "#Chamando uma variável fora da função, para ser executada"
      ],
      "metadata": {
        "id": "_gUJVBfI5FPV"
      },
      "execution_count": 16,
      "outputs": []
    },
    {
      "cell_type": "code",
      "source": [
        "nome = input('diga seu nome: ')"
      ],
      "metadata": {
        "colab": {
          "base_uri": "https://localhost:8080/"
        },
        "id": "jHTD5m1f5vGx",
        "outputId": "c9f17260-a9c2-4b2e-be53-647de853c119"
      },
      "execution_count": 17,
      "outputs": [
        {
          "name": "stdout",
          "output_type": "stream",
          "text": [
            "diga seu nome: Carlos\n"
          ]
        }
      ]
    },
    {
      "cell_type": "code",
      "source": [
        "def Recebendo_um_nome(nome_de_alguem):\n",
        "  print(f'Bom Dia! {nome_de_alguem}')"
      ],
      "metadata": {
        "id": "agLeWk6x5xR1"
      },
      "execution_count": 18,
      "outputs": []
    },
    {
      "cell_type": "code",
      "source": [
        "#chamando a variável criada como parâmetro da função"
      ],
      "metadata": {
        "id": "WnL2pXSc6GNz"
      },
      "execution_count": 19,
      "outputs": []
    },
    {
      "cell_type": "code",
      "source": [
        "Recebendo_um_nome(nome)"
      ],
      "metadata": {
        "colab": {
          "base_uri": "https://localhost:8080/"
        },
        "id": "YQSXlt__6SoN",
        "outputId": "be381884-eae9-4a72-ac4f-e171ae8c3b68"
      },
      "execution_count": 20,
      "outputs": [
        {
          "output_type": "stream",
          "name": "stdout",
          "text": [
            "Bom Dia! Carlos\n"
          ]
        }
      ]
    },
    {
      "cell_type": "markdown",
      "source": [
        "# Condicional"
      ],
      "metadata": {
        "id": "chixa3bl6o1h"
      }
    },
    {
      "cell_type": "code",
      "source": [
        "idade = input('diga sua idade: ')"
      ],
      "metadata": {
        "colab": {
          "base_uri": "https://localhost:8080/"
        },
        "id": "e9XgDMIF6s_7",
        "outputId": "3574ea3b-a9b4-4ab1-87a7-4dc361d66b12"
      },
      "execution_count": 29,
      "outputs": [
        {
          "name": "stdout",
          "output_type": "stream",
          "text": [
            "diga sua idade: 20\n"
          ]
        }
      ]
    },
    {
      "cell_type": "code",
      "source": [
        "#Para autorização de habilitação de automovel utiliza-se condicional (if/else)"
      ],
      "metadata": {
        "id": "gTthOg-Os_TW"
      },
      "execution_count": 30,
      "outputs": []
    },
    {
      "cell_type": "code",
      "source": [
        "def autorizacao_de_direcao(idade):\n",
        "  if idade <= '18':\n",
        "    print(f'Com {idade} anos, você não está autorizado.')\n",
        "  else:\n",
        "    print(f'Com {idade} anos, você está autorizado.')\n",
        "\n",
        "autorizacao_de_direcao(idade)"
      ],
      "metadata": {
        "colab": {
          "base_uri": "https://localhost:8080/"
        },
        "id": "tqWqIY6JtLlv",
        "outputId": "cbad98b3-85ed-4ce1-d1cc-e586853dc25c"
      },
      "execution_count": 31,
      "outputs": [
        {
          "output_type": "stream",
          "name": "stdout",
          "text": [
            "Com 20 anos, você está autorizado.\n"
          ]
        }
      ]
    }
  ]
}